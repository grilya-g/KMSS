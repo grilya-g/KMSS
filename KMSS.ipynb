{
 "cells": [
  {
   "cell_type": "code",
   "execution_count": 1,
   "metadata": {},
   "outputs": [],
   "source": [
    "import numpy as np"
   ]
  },
  {
   "cell_type": "code",
   "execution_count": 2,
   "metadata": {
    "pycharm": {
     "name": "#%%\n"
    }
   },
   "outputs": [],
   "source": [
    "def gamma(): # функция моделирования равномерно распределенной на [0,1) с.в.\n",
    "    return np.random.uniform(0, 1)"
   ]
  },
  {
   "cell_type": "code",
   "execution_count": 3,
   "metadata": {
    "pycharm": {
     "name": "#%%\n"
    }
   },
   "outputs": [],
   "source": [
    "def X0i(): # функция моделирования выплат\n",
    "    return 1 + gamma()"
   ]
  },
  {
   "cell_type": "code",
   "execution_count": 8,
   "metadata": {
    "pycharm": {
     "name": "#%%\n"
    }
   },
   "outputs": [],
   "source": [
    "S = 50                  # начальный капитал\n",
    "abs_tol = 0.05          # абсолютная точность\n",
    "# alfa = 0.12           # коэф. нагрузки\n",
    "T = 100                 # период\n",
    "# lambd = 1             # для стандартного пуассоновского процесса\n",
    "EX0i = 1.5              # мат ожидание выплат\n",
    "c = 1.68                #"
   ]
  },
  {
   "cell_type": "code",
   "execution_count": 51,
   "metadata": {
    "pycharm": {
     "name": "#%%\n"
    }
   },
   "outputs": [],
   "source": [
    "def proc(): # функция моделирования траектории процесса\n",
    "    # tr = 0\n",
    "    T0 = 0\n",
    "    Y = S\n",
    "    while T0 < 7500:\n",
    "        ksi = - np.log(gamma()) #/ lambd\n",
    "        T0 = T0 + ksi\n",
    "        Y = Y + c * ksi - X0i()\n",
    "        if Y < 0:\n",
    "#             tr = 1\n",
    "            return 1\n",
    "#     tr = 0\n",
    "    return 0\n"
   ]
  },
  {
   "cell_type": "code",
   "execution_count": null,
   "metadata": {
    "pycharm": {
     "name": "#%%\n"
    }
   },
   "outputs": [
    {
     "name": "stdout",
     "output_type": "stream",
     "text": [
      "0.0 0.0\n",
      "0.0006 0.6451166975999997\n",
      "0.0008 0.8599834623999998\n",
      "0.0007 0.7525608383999997\n",
      "0.00084 0.9029464872959997\n"
     ]
    }
   ],
   "source": [
    "for N1 in [1000, 5000, 10000, 30000, 50000, 100000]:\n",
    "    N2 = N1 + 20\n",
    "\n",
    "    i = 0\n",
    "    sum_ = 0        # сумма релизаций\n",
    "    sum_sq = 0      # сумма квадратов релизаций\n",
    "    x_0_beta = 1.64 # значение из таблицы Лапласа\n",
    "    \n",
    "    while True:\n",
    "        while i < N1:\n",
    "            x = proc()\n",
    "            sum_ = sum_ + x\n",
    "            sum_sq = sum_sq + x**2\n",
    "            i = i + 1\n",
    "        E = sum_ / N1\n",
    "        D = sum_sq / N1 - E**2\n",
    "        N2 = x_0_beta**2 * D / abs_tol**2\n",
    "        if N1 >= N2:\n",
    "            break\n",
    "        else:\n",
    "            N1 = N2\n",
    "    print(E, N2)"
   ]
  },
  {
   "cell_type": "code",
   "execution_count": null,
   "metadata": {
    "pycharm": {
     "name": "#%%\n"
    }
   },
   "outputs": [],
   "source": [
    "# x = proc()\n",
    "# x_0_beta = x\n",
    "# sum_ = sum_ + x\n",
    "# sum_sq = sum_sq + x**2\n",
    "# i = i + 1"
   ]
  },
  {
   "cell_type": "code",
   "execution_count": null,
   "metadata": {
    "pycharm": {
     "name": "#%%\n"
    }
   },
   "outputs": [],
   "source": [
    "# if i < N1:\n",
    "#     x = proc()\n",
    "#     sum_ = sum_ + x\n",
    "#     sum_sq = sum_sq + x**2\n",
    "#     i = i + 1\n",
    "# else:\n",
    "#     E = sum_ / N1\n",
    "#     D = sum_sq / N1- E**2\n",
    "#     N2 = x_0_beta**2 * D / eps**2"
   ]
  },
  {
   "cell_type": "code",
   "execution_count": null,
   "metadata": {
    "pycharm": {
     "name": "#%%\n"
    }
   },
   "outputs": [],
   "source": [
    "# if N2 <= N1:\n",
    "#     print(E)\n",
    "# else:\n",
    "#     N1 = N2"
   ]
  },
  {
   "cell_type": "code",
   "execution_count": null,
   "metadata": {
    "pycharm": {
     "name": "#%%\n"
    }
   },
   "outputs": [],
   "source": [
    "# def proc(): # функция моделирования траектории процесса\n",
    "#     # tr = 0\n",
    "#     T0 = 0\n",
    "#     Y = S\n",
    "#     while Y >= 0:\n",
    "#         ksi = - np.log(gamma()) / lambd\n",
    "#         print('$\\ksi = $', ksi)\n",
    "#         T0 = T0 + ksi\n",
    "#         if T0 < 7500:\n",
    "#             X = X0i()\n",
    "#             Y = Y + (1 + alfa) * EX0i() * ksi - X\n",
    "#         else:\n",
    "#             tr = 0\n",
    "#             return tr\n",
    "#     tr = 1\n",
    "#     return tr"
   ]
  }
 ],
 "metadata": {
  "kernelspec": {
   "display_name": "Python 3",
   "language": "python",
   "name": "python3"
  },
  "language_info": {
   "codemirror_mode": {
    "name": "ipython",
    "version": 3
   },
   "file_extension": ".py",
   "mimetype": "text/x-python",
   "name": "python",
   "nbconvert_exporter": "python",
   "pygments_lexer": "ipython3",
   "version": "3.8.5"
  }
 },
 "nbformat": 4,
 "nbformat_minor": 1
}